{
  "nbformat": 4,
  "nbformat_minor": 0,
  "metadata": {
    "colab": {
      "provenance": [],
      "include_colab_link": true
    },
    "kernelspec": {
      "name": "python3",
      "display_name": "Python 3"
    },
    "language_info": {
      "name": "python"
    }
  },
  "cells": [
    {
      "cell_type": "markdown",
      "metadata": {
        "id": "view-in-github",
        "colab_type": "text"
      },
      "source": [
        "<a href=\"https://colab.research.google.com/github/OvierI/Research_group_articles-/blob/main/id_Ovier%2C_the_cleaner.ipynb\" target=\"_parent\"><img src=\"https://colab.research.google.com/assets/colab-badge.svg\" alt=\"Open In Colab\"/></a>"
      ]
    },
    {
      "cell_type": "code",
      "execution_count": null,
      "metadata": {
        "id": "-RbQDK_OnSpc"
      },
      "outputs": [],
      "source": [
        "import json\n",
        "import pandas as pd\n",
        "from google.colab import files"
      ]
    },
    {
      "cell_type": "code",
      "source": [
        "from google.colab import drive\n",
        "drive.mount('/content/drive')"
      ],
      "metadata": {
        "colab": {
          "base_uri": "https://localhost:8080/"
        },
        "id": "7vmypO1blTHY",
        "outputId": "a71dfe0d-e4ac-4932-cb2e-f38be200aa1e"
      },
      "execution_count": null,
      "outputs": [
        {
          "output_type": "stream",
          "name": "stdout",
          "text": [
            "Drive already mounted at /content/drive; to attempt to forcibly remount, call drive.mount(\"/content/drive\", force_remount=True).\n"
          ]
        }
      ]
    },
    {
      "cell_type": "markdown",
      "source": [],
      "metadata": {
        "id": "Z35RvbDA7vR-"
      }
    },
    {
      "cell_type": "code",
      "source": [
        "with open('/content/drive/MyDrive/json/openalexco.json','r') as miarchivo:\n",
        "    objeto=miarchivo.read()\n",
        "objeto=json.loads(objeto)"
      ],
      "metadata": {
        "id": "7R1pvevHlXqY"
      },
      "execution_count": null,
      "outputs": []
    },
    {
      "cell_type": "code",
      "source": [
        "def filter_concept(concepts,concept='Physics'):    # método de dos argumentos, concepts is the Json and concept is a variable that will search the word physics\n",
        "    return any([True for c in concepts if c.get('display_name')==concept]) # el iterador c recorre en display_name, escoja el concepto Physics y retornelo\n"
      ],
      "metadata": {
        "id": "8LKxPJvyKBnf"
      },
      "execution_count": null,
      "outputs": []
    },
    {
      "cell_type": "code",
      "source": [
        "def filter_ror(authorships,ror=\"https://ror.org/03bp5hc83\"): #filtra por ror de la UdeA\n",
        "  return any([any([i.get('ror')==\"https://ror.org/03bp5hc83\" for i in a.get('institutions')])  for a in authorships])"
      ],
      "metadata": {
        "id": "bgJ4ud-gH2tk"
      },
      "execution_count": null,
      "outputs": []
    },
    {
      "cell_type": "code",
      "source": [
        "def filter_id(authorships,id=\"https://openalex.org/A2764531557\"): #filtra por id de Alvaro Morales\n",
        "  return any([a.get('author').get('id')==id  for a in authorships if a.get('author')])  "
      ],
      "metadata": {
        "id": "kXnCxty7RR6E"
      },
      "execution_count": null,
      "outputs": []
    },
    {
      "cell_type": "code",
      "source": [
        "p0=[d for d in objeto if filter_concept(d.get('concepts'),concept='Physics') ] #Nivel 0 para seleccionar lo referente a physics level 0\n",
        "del(objeto)\n"
      ],
      "metadata": {
        "id": "qQn6xLAlKBj6"
      },
      "execution_count": null,
      "outputs": []
    },
    {
      "cell_type": "code",
      "source": [
        "p1=[d for d in p0 if (filter_concept(d.get('concepts'),concept='Condensed matter physics') or #filtro a nivel 1\n",
        "                      filter_concept(d.get('concepts'),concept='Optoelectronics'))]"
      ],
      "metadata": {
        "id": "dZ1zkPT0vfYa"
      },
      "execution_count": null,
      "outputs": []
    },
    {
      "cell_type": "code",
      "source": [
        "p2=[d for d in p0 if (filter_concept(d.get('concepts'),concept='Quantum dot') or \n",
        "                      filter_concept(d.get('concepts'),concept='Semiconductor') or #filtro a nivel 2\n",
        "                      filter_concept(d.get('concepts'),concept='Heterojunction'))]"
      ],
      "metadata": {
        "id": "t_mJNjlUcyr8"
      },
      "execution_count": null,
      "outputs": []
    },
    {
      "cell_type": "code",
      "source": [
        "p_udea=[d for d in p0 if filter_ror(d.get('authorships'),ror=\"https://ror.org/03bp5hc83\")] #los artículos de física de UdeA"
      ],
      "metadata": {
        "id": "sYggGWQ_HoFF"
      },
      "execution_count": null,
      "outputs": []
    },
    {
      "cell_type": "code",
      "source": [
        "p_id=[c for c in p_udea if filter_id(c.get('authorships'))] #los artículos de Álvaro Morales de física en la UdeA"
      ],
      "metadata": {
        "id": "tB5r5C7zS1Ev"
      },
      "execution_count": null,
      "outputs": []
    },
    {
      "cell_type": "code",
      "source": [
        "len(p0),len(p1),len(p2),len(p_udea),len(p_id) #el tamaño de las listas a nivel 0, nivel 1, nivel 2, UdeA y de mi asesor"
      ],
      "metadata": {
        "colab": {
          "base_uri": "https://localhost:8080/"
        },
        "id": "8y7B5CkcTUEF",
        "outputId": "b4953b77-a7c9-45d6-bfd5-053ee81f87f7"
      },
      "execution_count": null,
      "outputs": [
        {
          "output_type": "execute_result",
          "data": {
            "text/plain": [
              "(17021, 1164, 328, 1886, 41)"
            ]
          },
          "metadata": {},
          "execution_count": 12
        }
      ]
    },
    {
      "cell_type": "markdown",
      "source": [
        "**AQUÍ ESTÁN LOS 446 ARTÍCULOS DE PHYSICS, DE LA UdeA, DE NIVEL 1 CUYOS IDENTIFICADORES CONTIENEN:**\n",
        "\n",
        "'Condensed matter physics',\n",
        "'Molecular physics',\n",
        "'Atomic physics',\n",
        "'Optics',\n",
        "'Quantum mechanics',\n",
        "'Optoelectronics'"
      ],
      "metadata": {
        "id": "xajJJTEmIPSR"
      }
    },
    {
      "cell_type": "code",
      "source": [
        "def filter_group(concepts,concept='Grupo de Materia Condensada-UdeA, Instituto de Física, Facultad de Ciencias Exactas y Naturales, Universidad de Antioquia UdeA, Calle 70 No. 52-21, Medellín 050022, Colombia'):    # método de dos argumentos, concepts is the Json and concept is a variable that will search the word physics\n",
        "    return any([True for c in concepts if c.get('display_name')==concept]) # el iterador c recorre en display_name, escoja el concepto Physics y retornelo\n"
      ],
      "metadata": {
        "id": "ZyTKIYbZP2m6"
      },
      "execution_count": null,
      "outputs": []
    },
    {
      "cell_type": "code",
      "source": [
        "ph_group=[d for d in objeto if filter_group(d.get('concepts'),concept='Grupo de Materia Condensada-UdeA, Instituto de Física, Facultad de Ciencias Exactas y Naturales, Universidad de Antioquia UdeA, Calle 70 No. 52-21, Medellín 050022, Colombia') ] #Nivel 0 para seleccionar lo referente a physics level 0\n",
        "del(objeto)"
      ],
      "metadata": {
        "id": "KTdM0OF6LPy5"
      },
      "execution_count": null,
      "outputs": []
    },
    {
      "cell_type": "code",
      "source": [
        "'Grupo de Materia Condensada-UdeA, Instituto de Física, Facultad de Ciencias Exactas y Naturales, Universidad de Antioquia UdeA, Calle 70 No. 52-21, Medellín 050022, Colombia'"
      ],
      "metadata": {
        "id": "sJQj1oOLLPvJ"
      },
      "execution_count": null,
      "outputs": []
    },
    {
      "cell_type": "code",
      "source": [
        "ph_group"
      ],
      "metadata": {
        "colab": {
          "base_uri": "https://localhost:8080/"
        },
        "id": "usnbOtK5QNi9",
        "outputId": "34692b9d-2ad5-47c5-c1ec-e332206f0b37"
      },
      "execution_count": null,
      "outputs": [
        {
          "output_type": "execute_result",
          "data": {
            "text/plain": [
              "[]"
            ]
          },
          "metadata": {},
          "execution_count": 8
        }
      ]
    },
    {
      "cell_type": "code",
      "source": [
        "authorships = [{'author_position': 'first',\n",
        "    'author': {'id': 'https://openalex.org/A2550838821',\n",
        "     'display_name': 'Eugenio Giraldo-Tobón'}}]"
      ],
      "metadata": {
        "id": "JohnQRtvQXmC"
      },
      "execution_count": null,
      "outputs": []
    },
    {
      "cell_type": "code",
      "source": [
        "filter_id(authorships)"
      ],
      "metadata": {
        "colab": {
          "base_uri": "https://localhost:8080/"
        },
        "id": "oCrP0_YsSC5K",
        "outputId": "41b5c80b-b816-46d2-e83c-de7fc8c36a46"
      },
      "execution_count": null,
      "outputs": [
        {
          "output_type": "execute_result",
          "data": {
            "text/plain": [
              "False"
            ]
          },
          "metadata": {},
          "execution_count": 25
        }
      ]
    },
    {
      "cell_type": "code",
      "source": [],
      "metadata": {
        "id": "OVzD7m6xLPsU"
      },
      "execution_count": null,
      "outputs": []
    },
    {
      "cell_type": "code",
      "source": [],
      "metadata": {
        "id": "bWN-TD5bLPou"
      },
      "execution_count": null,
      "outputs": []
    },
    {
      "cell_type": "code",
      "source": [],
      "metadata": {
        "id": "z-cRAF6kLPli"
      },
      "execution_count": null,
      "outputs": []
    },
    {
      "cell_type": "code",
      "source": [],
      "metadata": {
        "id": "fVJiSlisLPiP"
      },
      "execution_count": null,
      "outputs": []
    },
    {
      "cell_type": "code",
      "source": [],
      "metadata": {
        "id": "BiFEgC2sLPfW"
      },
      "execution_count": null,
      "outputs": []
    },
    {
      "cell_type": "code",
      "source": [],
      "metadata": {
        "id": "lHszkPaFLPbr"
      },
      "execution_count": null,
      "outputs": []
    },
    {
      "cell_type": "code",
      "source": [],
      "metadata": {
        "id": "dsmtTf0nLPYR"
      },
      "execution_count": null,
      "outputs": []
    },
    {
      "cell_type": "code",
      "source": [],
      "metadata": {
        "id": "T26xRg2JLPQn"
      },
      "execution_count": null,
      "outputs": []
    },
    {
      "cell_type": "code",
      "source": [],
      "metadata": {
        "id": "blzyNKitLPNM"
      },
      "execution_count": null,
      "outputs": []
    },
    {
      "cell_type": "code",
      "source": [],
      "metadata": {
        "id": "4OiT0nd0LPKV"
      },
      "execution_count": null,
      "outputs": []
    },
    {
      "cell_type": "code",
      "source": [],
      "metadata": {
        "id": "4-cjbVIfLPHb"
      },
      "execution_count": null,
      "outputs": []
    },
    {
      "cell_type": "code",
      "source": [],
      "metadata": {
        "id": "-8U9qhNRLO5X"
      },
      "execution_count": null,
      "outputs": []
    },
    {
      "cell_type": "markdown",
      "source": [
        "ESTO LO HAGO PA´DIVERTIRME ♐\n"
      ],
      "metadata": {
        "id": "RES4QrVKLSbC"
      }
    },
    {
      "cell_type": "code",
      "source": [
        "ph_udea=pp_udea[:10]\n",
        "df2=pd.DataFrame(ph_udea)\n",
        "df2=df2[['title','display_name','publication_year','authorships','created_date']]\n",
        "df2"
      ],
      "metadata": {
        "colab": {
          "base_uri": "https://localhost:8080/",
          "height": 363
        },
        "id": "jE-AGtMhKBVC",
        "outputId": "44bf6ce3-441c-4fed-acfd-cf08074c2974"
      },
      "execution_count": null,
      "outputs": [
        {
          "output_type": "execute_result",
          "data": {
            "text/plain": [
              "                                               title  \\\n",
              "0  Uncorrelated Excitonic Properties in Multilaye...   \n",
              "1  Ultrafast CO<sub>2</sub> photodissociation in ...   \n",
              "2  Shallow-donor impurity effects on the far infr...   \n",
              "3  Study of Electronic and Transport Properties i...   \n",
              "4  Effects of Intense Laser Field on Electronic a...   \n",
              "5  Vortex technique to track 3D object displaceme...   \n",
              "6  Deformation and size effects on electronic pro...   \n",
              "7  Theoretical study of electronic and optical pr...   \n",
              "8  Effect of position-dependent effective mass on...   \n",
              "9  Alternative constraints for improved multiplan...   \n",
              "\n",
              "                                        display_name  publication_year  \\\n",
              "0  Uncorrelated Excitonic Properties in Multilaye...              2022   \n",
              "1  Ultrafast CO<sub>2</sub> photodissociation in ...              2022   \n",
              "2  Shallow-donor impurity effects on the far infr...              2022   \n",
              "3  Study of Electronic and Transport Properties i...              2022   \n",
              "4  Effects of Intense Laser Field on Electronic a...              2022   \n",
              "5  Vortex technique to track 3D object displaceme...              2022   \n",
              "6  Deformation and size effects on electronic pro...              2022   \n",
              "7  Theoretical study of electronic and optical pr...              2022   \n",
              "8  Effect of position-dependent effective mass on...              2022   \n",
              "9  Alternative constraints for improved multiplan...              2022   \n",
              "\n",
              "                                         authorships created_date  \n",
              "0  [{'author_position': 'first', 'author': {'id':...   2022-07-30  \n",
              "1  [{'author_position': 'first', 'author': {'id':...   2022-06-16  \n",
              "2  [{'author_position': 'first', 'author': {'id':...   2022-05-23  \n",
              "3  [{'author_position': 'first', 'author': {'id':...   2022-05-22  \n",
              "4  [{'author_position': 'first', 'author': {'id':...   2022-05-22  \n",
              "5  [{'author_position': 'first', 'author': {'id':...   2022-05-11  \n",
              "6  [{'author_position': 'first', 'author': {'id':...   2022-05-05  \n",
              "7  [{'author_position': 'first', 'author': {'id':...   2022-04-03  \n",
              "8  [{'author_position': 'first', 'author': {'id':...   2022-04-03  \n",
              "9  [{'author_position': 'first', 'author': {'id':...   2021-10-25  "
            ],
            "text/html": [
              "\n",
              "  <div id=\"df-901c767b-2ad8-4295-a5e2-e272bb7effb1\">\n",
              "    <div class=\"colab-df-container\">\n",
              "      <div>\n",
              "<style scoped>\n",
              "    .dataframe tbody tr th:only-of-type {\n",
              "        vertical-align: middle;\n",
              "    }\n",
              "\n",
              "    .dataframe tbody tr th {\n",
              "        vertical-align: top;\n",
              "    }\n",
              "\n",
              "    .dataframe thead th {\n",
              "        text-align: right;\n",
              "    }\n",
              "</style>\n",
              "<table border=\"1\" class=\"dataframe\">\n",
              "  <thead>\n",
              "    <tr style=\"text-align: right;\">\n",
              "      <th></th>\n",
              "      <th>title</th>\n",
              "      <th>display_name</th>\n",
              "      <th>publication_year</th>\n",
              "      <th>authorships</th>\n",
              "      <th>created_date</th>\n",
              "    </tr>\n",
              "  </thead>\n",
              "  <tbody>\n",
              "    <tr>\n",
              "      <th>0</th>\n",
              "      <td>Uncorrelated Excitonic Properties in Multilaye...</td>\n",
              "      <td>Uncorrelated Excitonic Properties in Multilaye...</td>\n",
              "      <td>2022</td>\n",
              "      <td>[{'author_position': 'first', 'author': {'id':...</td>\n",
              "      <td>2022-07-30</td>\n",
              "    </tr>\n",
              "    <tr>\n",
              "      <th>1</th>\n",
              "      <td>Ultrafast CO&lt;sub&gt;2&lt;/sub&gt; photodissociation in ...</td>\n",
              "      <td>Ultrafast CO&lt;sub&gt;2&lt;/sub&gt; photodissociation in ...</td>\n",
              "      <td>2022</td>\n",
              "      <td>[{'author_position': 'first', 'author': {'id':...</td>\n",
              "      <td>2022-06-16</td>\n",
              "    </tr>\n",
              "    <tr>\n",
              "      <th>2</th>\n",
              "      <td>Shallow-donor impurity effects on the far infr...</td>\n",
              "      <td>Shallow-donor impurity effects on the far infr...</td>\n",
              "      <td>2022</td>\n",
              "      <td>[{'author_position': 'first', 'author': {'id':...</td>\n",
              "      <td>2022-05-23</td>\n",
              "    </tr>\n",
              "    <tr>\n",
              "      <th>3</th>\n",
              "      <td>Study of Electronic and Transport Properties i...</td>\n",
              "      <td>Study of Electronic and Transport Properties i...</td>\n",
              "      <td>2022</td>\n",
              "      <td>[{'author_position': 'first', 'author': {'id':...</td>\n",
              "      <td>2022-05-22</td>\n",
              "    </tr>\n",
              "    <tr>\n",
              "      <th>4</th>\n",
              "      <td>Effects of Intense Laser Field on Electronic a...</td>\n",
              "      <td>Effects of Intense Laser Field on Electronic a...</td>\n",
              "      <td>2022</td>\n",
              "      <td>[{'author_position': 'first', 'author': {'id':...</td>\n",
              "      <td>2022-05-22</td>\n",
              "    </tr>\n",
              "    <tr>\n",
              "      <th>5</th>\n",
              "      <td>Vortex technique to track 3D object displaceme...</td>\n",
              "      <td>Vortex technique to track 3D object displaceme...</td>\n",
              "      <td>2022</td>\n",
              "      <td>[{'author_position': 'first', 'author': {'id':...</td>\n",
              "      <td>2022-05-11</td>\n",
              "    </tr>\n",
              "    <tr>\n",
              "      <th>6</th>\n",
              "      <td>Deformation and size effects on electronic pro...</td>\n",
              "      <td>Deformation and size effects on electronic pro...</td>\n",
              "      <td>2022</td>\n",
              "      <td>[{'author_position': 'first', 'author': {'id':...</td>\n",
              "      <td>2022-05-05</td>\n",
              "    </tr>\n",
              "    <tr>\n",
              "      <th>7</th>\n",
              "      <td>Theoretical study of electronic and optical pr...</td>\n",
              "      <td>Theoretical study of electronic and optical pr...</td>\n",
              "      <td>2022</td>\n",
              "      <td>[{'author_position': 'first', 'author': {'id':...</td>\n",
              "      <td>2022-04-03</td>\n",
              "    </tr>\n",
              "    <tr>\n",
              "      <th>8</th>\n",
              "      <td>Effect of position-dependent effective mass on...</td>\n",
              "      <td>Effect of position-dependent effective mass on...</td>\n",
              "      <td>2022</td>\n",
              "      <td>[{'author_position': 'first', 'author': {'id':...</td>\n",
              "      <td>2022-04-03</td>\n",
              "    </tr>\n",
              "    <tr>\n",
              "      <th>9</th>\n",
              "      <td>Alternative constraints for improved multiplan...</td>\n",
              "      <td>Alternative constraints for improved multiplan...</td>\n",
              "      <td>2022</td>\n",
              "      <td>[{'author_position': 'first', 'author': {'id':...</td>\n",
              "      <td>2021-10-25</td>\n",
              "    </tr>\n",
              "  </tbody>\n",
              "</table>\n",
              "</div>\n",
              "      <button class=\"colab-df-convert\" onclick=\"convertToInteractive('df-901c767b-2ad8-4295-a5e2-e272bb7effb1')\"\n",
              "              title=\"Convert this dataframe to an interactive table.\"\n",
              "              style=\"display:none;\">\n",
              "        \n",
              "  <svg xmlns=\"http://www.w3.org/2000/svg\" height=\"24px\"viewBox=\"0 0 24 24\"\n",
              "       width=\"24px\">\n",
              "    <path d=\"M0 0h24v24H0V0z\" fill=\"none\"/>\n",
              "    <path d=\"M18.56 5.44l.94 2.06.94-2.06 2.06-.94-2.06-.94-.94-2.06-.94 2.06-2.06.94zm-11 1L8.5 8.5l.94-2.06 2.06-.94-2.06-.94L8.5 2.5l-.94 2.06-2.06.94zm10 10l.94 2.06.94-2.06 2.06-.94-2.06-.94-.94-2.06-.94 2.06-2.06.94z\"/><path d=\"M17.41 7.96l-1.37-1.37c-.4-.4-.92-.59-1.43-.59-.52 0-1.04.2-1.43.59L10.3 9.45l-7.72 7.72c-.78.78-.78 2.05 0 2.83L4 21.41c.39.39.9.59 1.41.59.51 0 1.02-.2 1.41-.59l7.78-7.78 2.81-2.81c.8-.78.8-2.07 0-2.86zM5.41 20L4 18.59l7.72-7.72 1.47 1.35L5.41 20z\"/>\n",
              "  </svg>\n",
              "      </button>\n",
              "      \n",
              "  <style>\n",
              "    .colab-df-container {\n",
              "      display:flex;\n",
              "      flex-wrap:wrap;\n",
              "      gap: 12px;\n",
              "    }\n",
              "\n",
              "    .colab-df-convert {\n",
              "      background-color: #E8F0FE;\n",
              "      border: none;\n",
              "      border-radius: 50%;\n",
              "      cursor: pointer;\n",
              "      display: none;\n",
              "      fill: #1967D2;\n",
              "      height: 32px;\n",
              "      padding: 0 0 0 0;\n",
              "      width: 32px;\n",
              "    }\n",
              "\n",
              "    .colab-df-convert:hover {\n",
              "      background-color: #E2EBFA;\n",
              "      box-shadow: 0px 1px 2px rgba(60, 64, 67, 0.3), 0px 1px 3px 1px rgba(60, 64, 67, 0.15);\n",
              "      fill: #174EA6;\n",
              "    }\n",
              "\n",
              "    [theme=dark] .colab-df-convert {\n",
              "      background-color: #3B4455;\n",
              "      fill: #D2E3FC;\n",
              "    }\n",
              "\n",
              "    [theme=dark] .colab-df-convert:hover {\n",
              "      background-color: #434B5C;\n",
              "      box-shadow: 0px 1px 3px 1px rgba(0, 0, 0, 0.15);\n",
              "      filter: drop-shadow(0px 1px 2px rgba(0, 0, 0, 0.3));\n",
              "      fill: #FFFFFF;\n",
              "    }\n",
              "  </style>\n",
              "\n",
              "      <script>\n",
              "        const buttonEl =\n",
              "          document.querySelector('#df-901c767b-2ad8-4295-a5e2-e272bb7effb1 button.colab-df-convert');\n",
              "        buttonEl.style.display =\n",
              "          google.colab.kernel.accessAllowed ? 'block' : 'none';\n",
              "\n",
              "        async function convertToInteractive(key) {\n",
              "          const element = document.querySelector('#df-901c767b-2ad8-4295-a5e2-e272bb7effb1');\n",
              "          const dataTable =\n",
              "            await google.colab.kernel.invokeFunction('convertToInteractive',\n",
              "                                                     [key], {});\n",
              "          if (!dataTable) return;\n",
              "\n",
              "          const docLinkHtml = 'Like what you see? Visit the ' +\n",
              "            '<a target=\"_blank\" href=https://colab.research.google.com/notebooks/data_table.ipynb>data table notebook</a>'\n",
              "            + ' to learn more about interactive tables.';\n",
              "          element.innerHTML = '';\n",
              "          dataTable['output_type'] = 'display_data';\n",
              "          await google.colab.output.renderOutput(dataTable, element);\n",
              "          const docLink = document.createElement('div');\n",
              "          docLink.innerHTML = docLinkHtml;\n",
              "          element.appendChild(docLink);\n",
              "        }\n",
              "      </script>\n",
              "    </div>\n",
              "  </div>\n",
              "  "
            ]
          },
          "metadata": {},
          "execution_count": 19
        }
      ]
    },
    {
      "cell_type": "code",
      "source": [],
      "metadata": {
        "id": "SkGcpGI3KBSd"
      },
      "execution_count": null,
      "outputs": []
    },
    {
      "cell_type": "code",
      "source": [],
      "metadata": {
        "id": "VBO50ggbKBPz"
      },
      "execution_count": null,
      "outputs": []
    },
    {
      "cell_type": "code",
      "source": [],
      "metadata": {
        "id": "-TBM2XE5KBM5"
      },
      "execution_count": null,
      "outputs": []
    },
    {
      "cell_type": "code",
      "source": [],
      "metadata": {
        "id": "iQkLBY7DKBBZ"
      },
      "execution_count": null,
      "outputs": []
    }
  ]
}